{
 "cells": [
  {
   "cell_type": "code",
   "id": "initial_id",
   "metadata": {
    "collapsed": true,
    "ExecuteTime": {
     "end_time": "2025-09-20T01:35:48.364261Z",
     "start_time": "2025-09-20T01:35:48.348308Z"
    }
   },
   "source": [
    "# Import pandas for data manipulation and analysis\n",
    "import pandas as pd\n"
   ],
   "outputs": [],
   "execution_count": 23
  },
  {
   "metadata": {},
   "cell_type": "markdown",
   "source": "# 1) Dataset exploration",
   "id": "6124a81b4c82c16f"
  },
  {
   "metadata": {},
   "cell_type": "markdown",
   "source": "###  Load the row data as DataFrame and display the first 5 Rows",
   "id": "7bb7671e8735b724"
  },
  {
   "metadata": {
    "ExecuteTime": {
     "end_time": "2025-09-20T01:35:48.406464Z",
     "start_time": "2025-09-20T01:35:48.382708Z"
    }
   },
   "cell_type": "code",
   "source": [
    "df = pd.read_csv(\"../data/row_data.csv\")\n",
    "df.head()"
   ],
   "id": "91178aa52da7c9fd",
   "outputs": [
    {
     "data": {
      "text/plain": [
       "  Transaction ID    Item Quantity Price Per Unit Total Spent  Payment Method  \\\n",
       "0    TXN_1961373  Coffee        2            2.0         4.0     Credit Card   \n",
       "1    TXN_4977031    Cake        4            3.0        12.0            Cash   \n",
       "2    TXN_4271903  Cookie        4            1.0       ERROR     Credit Card   \n",
       "3    TXN_7034554   Salad        2            5.0        10.0         UNKNOWN   \n",
       "4    TXN_3160411  Coffee        2            2.0         4.0  Digital Wallet   \n",
       "\n",
       "   Location Transaction Date  \n",
       "0  Takeaway       2023-09-08  \n",
       "1  In-store       2023-05-16  \n",
       "2  In-store       2023-07-19  \n",
       "3   UNKNOWN       2023-04-27  \n",
       "4  In-store       2023-06-11  "
      ],
      "text/html": [
       "<div>\n",
       "<style scoped>\n",
       "    .dataframe tbody tr th:only-of-type {\n",
       "        vertical-align: middle;\n",
       "    }\n",
       "\n",
       "    .dataframe tbody tr th {\n",
       "        vertical-align: top;\n",
       "    }\n",
       "\n",
       "    .dataframe thead th {\n",
       "        text-align: right;\n",
       "    }\n",
       "</style>\n",
       "<table border=\"1\" class=\"dataframe\">\n",
       "  <thead>\n",
       "    <tr style=\"text-align: right;\">\n",
       "      <th></th>\n",
       "      <th>Transaction ID</th>\n",
       "      <th>Item</th>\n",
       "      <th>Quantity</th>\n",
       "      <th>Price Per Unit</th>\n",
       "      <th>Total Spent</th>\n",
       "      <th>Payment Method</th>\n",
       "      <th>Location</th>\n",
       "      <th>Transaction Date</th>\n",
       "    </tr>\n",
       "  </thead>\n",
       "  <tbody>\n",
       "    <tr>\n",
       "      <th>0</th>\n",
       "      <td>TXN_1961373</td>\n",
       "      <td>Coffee</td>\n",
       "      <td>2</td>\n",
       "      <td>2.0</td>\n",
       "      <td>4.0</td>\n",
       "      <td>Credit Card</td>\n",
       "      <td>Takeaway</td>\n",
       "      <td>2023-09-08</td>\n",
       "    </tr>\n",
       "    <tr>\n",
       "      <th>1</th>\n",
       "      <td>TXN_4977031</td>\n",
       "      <td>Cake</td>\n",
       "      <td>4</td>\n",
       "      <td>3.0</td>\n",
       "      <td>12.0</td>\n",
       "      <td>Cash</td>\n",
       "      <td>In-store</td>\n",
       "      <td>2023-05-16</td>\n",
       "    </tr>\n",
       "    <tr>\n",
       "      <th>2</th>\n",
       "      <td>TXN_4271903</td>\n",
       "      <td>Cookie</td>\n",
       "      <td>4</td>\n",
       "      <td>1.0</td>\n",
       "      <td>ERROR</td>\n",
       "      <td>Credit Card</td>\n",
       "      <td>In-store</td>\n",
       "      <td>2023-07-19</td>\n",
       "    </tr>\n",
       "    <tr>\n",
       "      <th>3</th>\n",
       "      <td>TXN_7034554</td>\n",
       "      <td>Salad</td>\n",
       "      <td>2</td>\n",
       "      <td>5.0</td>\n",
       "      <td>10.0</td>\n",
       "      <td>UNKNOWN</td>\n",
       "      <td>UNKNOWN</td>\n",
       "      <td>2023-04-27</td>\n",
       "    </tr>\n",
       "    <tr>\n",
       "      <th>4</th>\n",
       "      <td>TXN_3160411</td>\n",
       "      <td>Coffee</td>\n",
       "      <td>2</td>\n",
       "      <td>2.0</td>\n",
       "      <td>4.0</td>\n",
       "      <td>Digital Wallet</td>\n",
       "      <td>In-store</td>\n",
       "      <td>2023-06-11</td>\n",
       "    </tr>\n",
       "  </tbody>\n",
       "</table>\n",
       "</div>"
      ]
     },
     "execution_count": 24,
     "metadata": {},
     "output_type": "execute_result"
    }
   ],
   "execution_count": 24
  },
  {
   "metadata": {},
   "cell_type": "markdown",
   "source": [
    "### Dataset shape\n",
    "The dataset contains **10,000 rows** and **8 columns**.\n",
    "Each row represents a transaction, and the columns describe attributes such as item, quantity, price, payment method, and transaction date."
   ],
   "id": "70971c18258f4234"
  },
  {
   "metadata": {
    "ExecuteTime": {
     "end_time": "2025-09-20T01:35:48.446840Z",
     "start_time": "2025-09-20T01:35:48.441790Z"
    }
   },
   "cell_type": "code",
   "source": "df.shape",
   "id": "834a74962664b1ad",
   "outputs": [
    {
     "data": {
      "text/plain": [
       "(10000, 8)"
      ]
     },
     "execution_count": 25,
     "metadata": {},
     "output_type": "execute_result"
    }
   ],
   "execution_count": 25
  },
  {
   "metadata": {},
   "cell_type": "markdown",
   "source": [
    "### Dataset information\n",
    "The table below shows the **structure of the dataset**, including the column names, the number of non-null values and the data types.\n",
    "This helps to identify which columns contain **missing data** and whether data types need to be converted for further analysis.\n"
   ],
   "id": "f31212097ec221a9"
  },
  {
   "metadata": {
    "ExecuteTime": {
     "end_time": "2025-09-20T01:35:48.582122Z",
     "start_time": "2025-09-20T01:35:48.573822Z"
    }
   },
   "cell_type": "code",
   "source": "df.info()",
   "id": "8b88b30676f50e20",
   "outputs": [
    {
     "name": "stdout",
     "output_type": "stream",
     "text": [
      "<class 'pandas.core.frame.DataFrame'>\n",
      "RangeIndex: 10000 entries, 0 to 9999\n",
      "Data columns (total 8 columns):\n",
      " #   Column            Non-Null Count  Dtype \n",
      "---  ------            --------------  ----- \n",
      " 0   Transaction ID    10000 non-null  object\n",
      " 1   Item              9667 non-null   object\n",
      " 2   Quantity          9862 non-null   object\n",
      " 3   Price Per Unit    9821 non-null   object\n",
      " 4   Total Spent       9827 non-null   object\n",
      " 5   Payment Method    7421 non-null   object\n",
      " 6   Location          6735 non-null   object\n",
      " 7   Transaction Date  9841 non-null   object\n",
      "dtypes: object(8)\n",
      "memory usage: 625.1+ KB\n"
     ]
    }
   ],
   "execution_count": 26
  },
  {
   "metadata": {},
   "cell_type": "markdown",
   "source": [
    "### Statistical summary\n",
    "The table below shows for each column the number of non-null values, the number of unique values, the most frequent value and how many times it appears (frequency)"
   ],
   "id": "fe47884b89b9abb2"
  },
  {
   "metadata": {
    "ExecuteTime": {
     "end_time": "2025-09-20T01:35:48.680613Z",
     "start_time": "2025-09-20T01:35:48.664963Z"
    }
   },
   "cell_type": "code",
   "source": "df.describe()",
   "id": "44cb5094e1fc629e",
   "outputs": [
    {
     "data": {
      "text/plain": [
       "       Transaction ID   Item Quantity Price Per Unit Total Spent  \\\n",
       "count           10000   9667     9862           9821        9827   \n",
       "unique          10000     10        7              8          19   \n",
       "top       TXN_1961373  Juice        5            3.0         6.0   \n",
       "freq                1   1171     2013           2429         979   \n",
       "\n",
       "        Payment Method  Location Transaction Date  \n",
       "count             7421      6735             9841  \n",
       "unique               5         4              367  \n",
       "top     Digital Wallet  Takeaway          UNKNOWN  \n",
       "freq              2291      3022              159  "
      ],
      "text/html": [
       "<div>\n",
       "<style scoped>\n",
       "    .dataframe tbody tr th:only-of-type {\n",
       "        vertical-align: middle;\n",
       "    }\n",
       "\n",
       "    .dataframe tbody tr th {\n",
       "        vertical-align: top;\n",
       "    }\n",
       "\n",
       "    .dataframe thead th {\n",
       "        text-align: right;\n",
       "    }\n",
       "</style>\n",
       "<table border=\"1\" class=\"dataframe\">\n",
       "  <thead>\n",
       "    <tr style=\"text-align: right;\">\n",
       "      <th></th>\n",
       "      <th>Transaction ID</th>\n",
       "      <th>Item</th>\n",
       "      <th>Quantity</th>\n",
       "      <th>Price Per Unit</th>\n",
       "      <th>Total Spent</th>\n",
       "      <th>Payment Method</th>\n",
       "      <th>Location</th>\n",
       "      <th>Transaction Date</th>\n",
       "    </tr>\n",
       "  </thead>\n",
       "  <tbody>\n",
       "    <tr>\n",
       "      <th>count</th>\n",
       "      <td>10000</td>\n",
       "      <td>9667</td>\n",
       "      <td>9862</td>\n",
       "      <td>9821</td>\n",
       "      <td>9827</td>\n",
       "      <td>7421</td>\n",
       "      <td>6735</td>\n",
       "      <td>9841</td>\n",
       "    </tr>\n",
       "    <tr>\n",
       "      <th>unique</th>\n",
       "      <td>10000</td>\n",
       "      <td>10</td>\n",
       "      <td>7</td>\n",
       "      <td>8</td>\n",
       "      <td>19</td>\n",
       "      <td>5</td>\n",
       "      <td>4</td>\n",
       "      <td>367</td>\n",
       "    </tr>\n",
       "    <tr>\n",
       "      <th>top</th>\n",
       "      <td>TXN_1961373</td>\n",
       "      <td>Juice</td>\n",
       "      <td>5</td>\n",
       "      <td>3.0</td>\n",
       "      <td>6.0</td>\n",
       "      <td>Digital Wallet</td>\n",
       "      <td>Takeaway</td>\n",
       "      <td>UNKNOWN</td>\n",
       "    </tr>\n",
       "    <tr>\n",
       "      <th>freq</th>\n",
       "      <td>1</td>\n",
       "      <td>1171</td>\n",
       "      <td>2013</td>\n",
       "      <td>2429</td>\n",
       "      <td>979</td>\n",
       "      <td>2291</td>\n",
       "      <td>3022</td>\n",
       "      <td>159</td>\n",
       "    </tr>\n",
       "  </tbody>\n",
       "</table>\n",
       "</div>"
      ]
     },
     "execution_count": 27,
     "metadata": {},
     "output_type": "execute_result"
    }
   ],
   "execution_count": 27
  },
  {
   "metadata": {},
   "cell_type": "markdown",
   "source": "# 2) Data quality check",
   "id": "7e31ca60993ac6e2"
  },
  {
   "metadata": {},
   "cell_type": "markdown",
   "source": [
    "### Detecting **missing values**\n",
    "The table below shows us how many missing values in each column"
   ],
   "id": "3d9caa403041c08e"
  },
  {
   "metadata": {
    "ExecuteTime": {
     "end_time": "2025-09-20T01:35:48.767894Z",
     "start_time": "2025-09-20T01:35:48.761598Z"
    }
   },
   "cell_type": "code",
   "source": "df.isnull().sum()",
   "id": "55c321efeafa4d2",
   "outputs": [
    {
     "data": {
      "text/plain": [
       "Transaction ID         0\n",
       "Item                 333\n",
       "Quantity             138\n",
       "Price Per Unit       179\n",
       "Total Spent          173\n",
       "Payment Method      2579\n",
       "Location            3265\n",
       "Transaction Date     159\n",
       "dtype: int64"
      ]
     },
     "execution_count": 28,
     "metadata": {},
     "output_type": "execute_result"
    }
   ],
   "execution_count": 28
  },
  {
   "metadata": {},
   "cell_type": "markdown",
   "source": [
    "### Detecting duplicate records\n",
    "The result shows that there are **no duplicate rows** in the dataset.\n",
    "This means we can proceed without the need to remove any duplicates."
   ],
   "id": "ecc6abd42a2412be"
  },
  {
   "metadata": {
    "ExecuteTime": {
     "end_time": "2025-09-20T01:35:48.971219Z",
     "start_time": "2025-09-20T01:35:48.963708Z"
    }
   },
   "cell_type": "code",
   "source": "df.duplicated().sum()",
   "id": "641868762829b77d",
   "outputs": [
    {
     "data": {
      "text/plain": [
       "0"
      ]
     },
     "execution_count": 29,
     "metadata": {},
     "output_type": "execute_result"
    }
   ],
   "execution_count": 29
  },
  {
   "metadata": {},
   "cell_type": "markdown",
   "source": [
    "### Distribution of categorical columns\n",
    "Since we have three **categorical columns** (*Item*, *Payment Method*, *Location*),\n",
    "we should inspect them to see which unique values they contain and whether they include\n",
    "any inconsistent entries or placeholder values (e.g., *UNKNOWN*).\n"
   ],
   "id": "ad5df6225408fd4a"
  },
  {
   "metadata": {},
   "cell_type": "markdown",
   "source": "The table below shows that the **Item** column contains 344 entries with the value *UNKNOWN* and 292 entries with the value *ERROR*.",
   "id": "6f7d3ff2741e637c"
  },
  {
   "metadata": {
    "ExecuteTime": {
     "end_time": "2025-09-20T01:35:49.129578Z",
     "start_time": "2025-09-20T01:35:49.122580Z"
    }
   },
   "cell_type": "code",
   "source": "df[\"Item\"].value_counts()",
   "id": "dbe121e1df3fa9a",
   "outputs": [
    {
     "data": {
      "text/plain": [
       "Item\n",
       "Juice       1171\n",
       "Coffee      1165\n",
       "Salad       1148\n",
       "Cake        1139\n",
       "Sandwich    1131\n",
       "Smoothie    1096\n",
       "Cookie      1092\n",
       "Tea         1089\n",
       "UNKNOWN      344\n",
       "ERROR        292\n",
       "Name: count, dtype: int64"
      ]
     },
     "execution_count": 30,
     "metadata": {},
     "output_type": "execute_result"
    }
   ],
   "execution_count": 30
  },
  {
   "metadata": {},
   "cell_type": "markdown",
   "source": "The table below shows that the **Payment Method** column contains 293 entries with the value *UNKNOWN* and 306 entries with the value *ERROR*.",
   "id": "dddfe53ac3db12da"
  },
  {
   "metadata": {
    "ExecuteTime": {
     "end_time": "2025-09-20T01:35:49.241221Z",
     "start_time": "2025-09-20T01:35:49.235237Z"
    }
   },
   "cell_type": "code",
   "source": "df[\"Payment Method\"].value_counts()",
   "id": "ef5af9cdde311827",
   "outputs": [
    {
     "data": {
      "text/plain": [
       "Payment Method\n",
       "Digital Wallet    2291\n",
       "Credit Card       2273\n",
       "Cash              2258\n",
       "ERROR              306\n",
       "UNKNOWN            293\n",
       "Name: count, dtype: int64"
      ]
     },
     "execution_count": 31,
     "metadata": {},
     "output_type": "execute_result"
    }
   ],
   "execution_count": 31
  },
  {
   "metadata": {},
   "cell_type": "markdown",
   "source": "The table below shows that the **Location** column contains 338 entries with the value *UNKNOWN* and 358 entries with the value *ERROR*.",
   "id": "a5603c30203a4214"
  },
  {
   "metadata": {
    "ExecuteTime": {
     "end_time": "2025-09-20T01:35:49.384453Z",
     "start_time": "2025-09-20T01:35:49.379057Z"
    }
   },
   "cell_type": "code",
   "source": "df[\"Location\"].value_counts()",
   "id": "ce2a73173848516f",
   "outputs": [
    {
     "data": {
      "text/plain": [
       "Location\n",
       "Takeaway    3022\n",
       "In-store    3017\n",
       "ERROR        358\n",
       "UNKNOWN      338\n",
       "Name: count, dtype: int64"
      ]
     },
     "execution_count": 32,
     "metadata": {},
     "output_type": "execute_result"
    }
   ],
   "execution_count": 32
  },
  {
   "metadata": {},
   "cell_type": "markdown",
   "source": "# 3) Data Cleaning",
   "id": "b3e36763c232a55e"
  },
  {
   "metadata": {},
   "cell_type": "markdown",
   "source": [
    "### Cleaning the *Item* column\n",
    "The column *Item* contains invalid placeholder values such as **UNKNOWN** and **ERROR**.\n",
    "Since these values do not represent real products, they should be removed from the dataset.\n",
    "We will filter out these rows to keep only valid items."
   ],
   "id": "27e273d0f1a26c27"
  },
  {
   "metadata": {
    "ExecuteTime": {
     "end_time": "2025-09-20T01:35:49.536666Z",
     "start_time": "2025-09-20T01:35:49.530347Z"
    }
   },
   "cell_type": "code",
   "source": [
    "# Remove rows where Item is UNKNOWN or ERROR\n",
    "df = df[~df[\"Item\"].isin([\"UNKNOWN\", \"ERROR\"])]\n",
    "\n",
    "# Verify the result\n",
    "df[\"Item\"].value_counts()"
   ],
   "id": "cc3df864eee398ba",
   "outputs": [
    {
     "data": {
      "text/plain": [
       "Item\n",
       "Juice       1171\n",
       "Coffee      1165\n",
       "Salad       1148\n",
       "Cake        1139\n",
       "Sandwich    1131\n",
       "Smoothie    1096\n",
       "Cookie      1092\n",
       "Tea         1089\n",
       "Name: count, dtype: int64"
      ]
     },
     "execution_count": 33,
     "metadata": {},
     "output_type": "execute_result"
    }
   ],
   "execution_count": 33
  },
  {
   "metadata": {},
   "cell_type": "markdown",
   "source": [
    "### Cleaning the *Payment Method* column\n",
    "\n",
    "The column *Payment Method* contains invalid entries such as **UNKNOWN** and **Error**.\n",
    "To avoid losing too many rows, we replace these values with **Cash**\n",
    "(as it is the most common payment method in the dataset).\n",
    "This ensures that all rows remain usable for analysis.\n"
   ],
   "id": "2ec8e2f439675d55"
  },
  {
   "metadata": {
    "ExecuteTime": {
     "end_time": "2025-09-20T01:35:49.806145Z",
     "start_time": "2025-09-20T01:35:49.798950Z"
    }
   },
   "cell_type": "code",
   "source": [
    "# Replace UNKNOWN values in Payment Method with 'Cash'\n",
    "df[\"Payment Method\"] = df[\"Payment Method\"].replace([\"UNKNOWN\",\"ERROR\"], \"Cash\")\n",
    "\n",
    "# Verify the result\n",
    "df[\"Payment Method\"].value_counts()"
   ],
   "id": "a40fc8f4d88153e4",
   "outputs": [
    {
     "data": {
      "text/plain": [
       "Payment Method\n",
       "Cash              2681\n",
       "Digital Wallet    2147\n",
       "Credit Card       2124\n",
       "Name: count, dtype: int64"
      ]
     },
     "execution_count": 34,
     "metadata": {},
     "output_type": "execute_result"
    }
   ],
   "execution_count": 34
  },
  {
   "metadata": {},
   "cell_type": "markdown",
   "source": [
    "### Cleaning the *Location* column\n",
    "\n",
    "The column *Location* contains invalid placeholder values such as **UNKNOWN** and **ERROR**.\n",
    "Since *In-store* is the most frequent and most reliable category, we standardize all invalid values to **In-store**.\n",
    "This ensures consistency in the dataset while keeping all rows usable.\n"
   ],
   "id": "ecf4cac9b3ec0d67"
  },
  {
   "metadata": {
    "ExecuteTime": {
     "end_time": "2025-09-20T01:35:49.928217Z",
     "start_time": "2025-09-20T01:35:49.919885Z"
    }
   },
   "cell_type": "code",
   "source": [
    "# Replace all invalid values with \"In-store\"\n",
    "df[\"Location\"] = df[\"Location\"].replace([\"UNKNOWN\", \"ERROR\"], \"In-store\")\n",
    "\n",
    "# Verify the result\n",
    "df[\"Location\"].value_counts()\n"
   ],
   "id": "90806b4a48772202",
   "outputs": [
    {
     "data": {
      "text/plain": [
       "Location\n",
       "In-store    3485\n",
       "Takeaway    2830\n",
       "Name: count, dtype: int64"
      ]
     },
     "execution_count": 35,
     "metadata": {},
     "output_type": "execute_result"
    }
   ],
   "execution_count": 35
  },
  {
   "metadata": {},
   "cell_type": "markdown",
   "source": [
    "### Cleaning numerical columns\n",
    "\n",
    "The numerical columns (*Quantity*, *Price Per Unit*, *Total Spent*) may contain invalid values such as **ERROR** or missing entries.\n",
    "To ensure data consistency:\n",
    "- We convert all values to numeric format (invalid strings become NaN).\n",
    "- We recalculate *Total Spent* as **Quantity × Price Per Unit** wherever it is missing or invalid.\n",
    "This guarantees that all numerical columns contain only valid numbers.\n"
   ],
   "id": "a6cb39c214a26b61"
  },
  {
   "metadata": {
    "ExecuteTime": {
     "end_time": "2025-09-20T01:35:50.097573Z",
     "start_time": "2025-09-20T01:35:50.082506Z"
    }
   },
   "cell_type": "code",
   "source": [
    "# Convert Quantity and Price Per Unit to numeric (invalid entries → NaN)\n",
    "df[\"Quantity\"] = pd.to_numeric(df[\"Quantity\"], errors=\"coerce\")\n",
    "df[\"Price Per Unit\"] = pd.to_numeric(df[\"Price Per Unit\"], errors=\"coerce\")\n",
    "df[\"Total Spent\"] = pd.to_numeric(df[\"Total Spent\"], errors=\"coerce\")\n",
    "\n",
    "# Recalculate Total Spent where missing or invalid\n",
    "df[\"Total Spent\"] = df[\"Quantity\"] * df[\"Price Per Unit\"]\n",
    "\n",
    "# Verify the result\n",
    "df[[\"Quantity\", \"Price Per Unit\", \"Total Spent\"]].head()"
   ],
   "id": "6284a69b28329dbc",
   "outputs": [
    {
     "data": {
      "text/plain": [
       "   Quantity  Price Per Unit  Total Spent\n",
       "0       2.0             2.0          4.0\n",
       "1       4.0             3.0         12.0\n",
       "2       4.0             1.0          4.0\n",
       "3       2.0             5.0         10.0\n",
       "4       2.0             2.0          4.0"
      ],
      "text/html": [
       "<div>\n",
       "<style scoped>\n",
       "    .dataframe tbody tr th:only-of-type {\n",
       "        vertical-align: middle;\n",
       "    }\n",
       "\n",
       "    .dataframe tbody tr th {\n",
       "        vertical-align: top;\n",
       "    }\n",
       "\n",
       "    .dataframe thead th {\n",
       "        text-align: right;\n",
       "    }\n",
       "</style>\n",
       "<table border=\"1\" class=\"dataframe\">\n",
       "  <thead>\n",
       "    <tr style=\"text-align: right;\">\n",
       "      <th></th>\n",
       "      <th>Quantity</th>\n",
       "      <th>Price Per Unit</th>\n",
       "      <th>Total Spent</th>\n",
       "    </tr>\n",
       "  </thead>\n",
       "  <tbody>\n",
       "    <tr>\n",
       "      <th>0</th>\n",
       "      <td>2.0</td>\n",
       "      <td>2.0</td>\n",
       "      <td>4.0</td>\n",
       "    </tr>\n",
       "    <tr>\n",
       "      <th>1</th>\n",
       "      <td>4.0</td>\n",
       "      <td>3.0</td>\n",
       "      <td>12.0</td>\n",
       "    </tr>\n",
       "    <tr>\n",
       "      <th>2</th>\n",
       "      <td>4.0</td>\n",
       "      <td>1.0</td>\n",
       "      <td>4.0</td>\n",
       "    </tr>\n",
       "    <tr>\n",
       "      <th>3</th>\n",
       "      <td>2.0</td>\n",
       "      <td>5.0</td>\n",
       "      <td>10.0</td>\n",
       "    </tr>\n",
       "    <tr>\n",
       "      <th>4</th>\n",
       "      <td>2.0</td>\n",
       "      <td>2.0</td>\n",
       "      <td>4.0</td>\n",
       "    </tr>\n",
       "  </tbody>\n",
       "</table>\n",
       "</div>"
      ]
     },
     "execution_count": 36,
     "metadata": {},
     "output_type": "execute_result"
    }
   ],
   "execution_count": 36
  },
  {
   "metadata": {},
   "cell_type": "markdown",
   "source": [
    "### Cleaning the *Transaction Date* column\n",
    "\n",
    "The column *Transaction Date* should contain only valid dates.\n",
    "To ensure consistency:\n",
    "- We convert the column to **datetime format**.\n",
    "- Invalid entries are converted to **NaT** (Not a Time).\n",
    "- This allows us to perform time-based analysis (e.g., sales per month).\n"
   ],
   "id": "12b4c1641fa037dd"
  },
  {
   "metadata": {
    "ExecuteTime": {
     "end_time": "2025-09-20T01:35:50.679435Z",
     "start_time": "2025-09-20T01:35:50.660030Z"
    }
   },
   "cell_type": "code",
   "source": [
    "# Convert Transaction Date to datetime (invalid entries → NaT)\n",
    "df[\"Transaction Date\"] = pd.to_datetime(df[\"Transaction Date\"], errors=\"coerce\")\n",
    "\n",
    "# Verify the result\n",
    "df[\"Transaction Date\"].head()"
   ],
   "id": "4a3d411f3bb88562",
   "outputs": [
    {
     "data": {
      "text/plain": [
       "0   2023-09-08\n",
       "1   2023-05-16\n",
       "2   2023-07-19\n",
       "3   2023-04-27\n",
       "4   2023-06-11\n",
       "Name: Transaction Date, dtype: datetime64[ns]"
      ]
     },
     "execution_count": 37,
     "metadata": {},
     "output_type": "execute_result"
    }
   ],
   "execution_count": 37
  },
  {
   "metadata": {},
   "cell_type": "markdown",
   "source": "### Handling missing values\n",
   "id": "3fb01a1debf2223f"
  },
  {
   "metadata": {
    "ExecuteTime": {
     "end_time": "2025-09-20T01:35:50.956998Z",
     "start_time": "2025-09-20T01:35:50.941088Z"
    }
   },
   "cell_type": "code",
   "source": [
    "# Display the number of the missing values per column\n",
    "df.isnull().sum()"
   ],
   "id": "ae2a2e6c9a97dd11",
   "outputs": [
    {
     "data": {
      "text/plain": [
       "Transaction ID         0\n",
       "Item                 333\n",
       "Quantity             438\n",
       "Price Per Unit       502\n",
       "Total Spent          924\n",
       "Payment Method      2412\n",
       "Location            3049\n",
       "Transaction Date     436\n",
       "dtype: int64"
      ]
     },
     "execution_count": 38,
     "metadata": {},
     "output_type": "execute_result"
    }
   ],
   "execution_count": 38
  },
  {
   "metadata": {},
   "cell_type": "markdown",
   "source": [
    "\n",
    "The columns *Item* and *Transaction Date* each contain around **3–4% missing values**.\n",
    "Since these features are critical for the analysis (we cannot interpret a transaction without knowing the product or the date),\n",
    "we remove these rows. The data loss is minimal and does not affect the overall dataset quality.\n"
   ],
   "id": "67ebcc56c4c1164b"
  },
  {
   "metadata": {
    "ExecuteTime": {
     "end_time": "2025-09-20T01:35:51.419684Z",
     "start_time": "2025-09-20T01:35:51.407251Z"
    }
   },
   "cell_type": "code",
   "source": [
    "# Drop rows with missing Item or Transaction Date\n",
    "df = df.dropna(subset=[\"Item\", \"Transaction Date\"])"
   ],
   "id": "ec160b6bab4799a7",
   "outputs": [],
   "execution_count": 39
  },
  {
   "metadata": {},
   "cell_type": "markdown",
   "source": [
    "### Handling missing values in *Quantity* and *Price Per Unit*\n",
    "\n",
    "The columns *Quantity* and *Price Per Unit* contain around 4–5% missing values.\n",
    "Instead of dropping these rows, we replace the missing values with the **median** of each column.\n",
    "This approach preserves most of the data while avoiding distortion from outliers.\n"
   ],
   "id": "17febb0cc8ed2bc1"
  },
  {
   "metadata": {
    "ExecuteTime": {
     "end_time": "2025-09-20T01:35:51.545063Z",
     "start_time": "2025-09-20T01:35:51.535615Z"
    }
   },
   "cell_type": "code",
   "source": [
    "# Fill missing numerical values with the median\n",
    "df[\"Quantity\"] = df[\"Quantity\"].fillna(df[\"Quantity\"].median())\n",
    "df[\"Price Per Unit\"] = df[\"Price Per Unit\"].fillna(df[\"Price Per Unit\"].median())"
   ],
   "id": "878b98ab439bdf79",
   "outputs": [],
   "execution_count": 40
  },
  {
   "metadata": {},
   "cell_type": "markdown",
   "source": [
    "### Fixing missing values in *Total Spent*\n",
    "\n",
    "The column *Total Spent* contains missing values.\n",
    "Since this column should always equal **Quantity × Price Per Unit**,\n",
    "we recalculate it to replace NaN values with the correct amounts."
   ],
   "id": "86480316dd5ad123"
  },
  {
   "metadata": {
    "ExecuteTime": {
     "end_time": "2025-09-20T01:35:51.601127Z",
     "start_time": "2025-09-20T01:35:51.590756Z"
    }
   },
   "cell_type": "code",
   "source": [
    "# Recalculate Total Spent where missing or invalid\n",
    "df[\"Total Spent\"] = df[\"Quantity\"] * df[\"Price Per Unit\"]"
   ],
   "id": "764b9b2d38ece701",
   "outputs": [],
   "execution_count": 41
  },
  {
   "metadata": {},
   "cell_type": "markdown",
   "source": [
    "### Fixing missing values in *Payment Method* and *Location*\n",
    "\n",
    "Missing values in categorical columns are replaced with the **most frequent value (mode)**.\n",
    "This preserves all rows and keeps the categories consistent.\n"
   ],
   "id": "79910878c6edf681"
  },
  {
   "metadata": {
    "ExecuteTime": {
     "end_time": "2025-09-20T01:35:51.629997Z",
     "start_time": "2025-09-20T01:35:51.612457Z"
    }
   },
   "cell_type": "code",
   "source": [
    "# Fill missing Payment Method and Location with mode\n",
    "df[\"Payment Method\"] = df[\"Payment Method\"].fillna(df[\"Payment Method\"].mode()[0])\n",
    "df[\"Location\"] = df[\"Location\"].fillna(df[\"Location\"].mode()[0])\n"
   ],
   "id": "448addeaacfa8264",
   "outputs": [],
   "execution_count": 42
  },
  {
   "metadata": {},
   "cell_type": "markdown",
   "source": "### Final check for missing values\n",
   "id": "8154222d7b8a88bf"
  },
  {
   "metadata": {
    "ExecuteTime": {
     "end_time": "2025-09-20T01:35:51.662941Z",
     "start_time": "2025-09-20T01:35:51.649780Z"
    }
   },
   "cell_type": "code",
   "source": "df.isnull().sum()",
   "id": "9939b2b08c275fba",
   "outputs": [
    {
     "data": {
      "text/plain": [
       "Transaction ID      0\n",
       "Item                0\n",
       "Quantity            0\n",
       "Price Per Unit      0\n",
       "Total Spent         0\n",
       "Payment Method      0\n",
       "Location            0\n",
       "Transaction Date    0\n",
       "dtype: int64"
      ]
     },
     "execution_count": 43,
     "metadata": {},
     "output_type": "execute_result"
    }
   ],
   "execution_count": 43
  },
  {
   "metadata": {},
   "cell_type": "markdown",
   "source": [
    "### Export cleaned dataset\n",
    "We save the cleaned DataFrame as a CSV for reuse in the EDA notebook.\n"
   ],
   "id": "b37be298fda483bc"
  },
  {
   "metadata": {
    "ExecuteTime": {
     "end_time": "2025-09-20T01:35:51.827219Z",
     "start_time": "2025-09-20T01:35:51.763890Z"
    }
   },
   "cell_type": "code",
   "source": "df.to_csv(\"../data/cleaned_cafe_sales.csv\", index=False)\n",
   "id": "a299652c5afe0bb2",
   "outputs": [],
   "execution_count": 44
  },
  {
   "metadata": {},
   "cell_type": "markdown",
   "source": [
    "# Data cleaning summary\n",
    "\n",
    "All missing and invalid values have been handled successfully:\n",
    "- *Item* and *Transaction Date*: rows with missing values removed (~3–4%).\n",
    "- *Quantity* and *Price Per Unit*: recalculated where possible, otherwise filled with median.\n",
    "- *Total Spent*: fully recalculated as Quantity × Price Per Unit.\n",
    "- *Payment Method* and *Location*: missing values replaced with the most frequent value.\n",
    "\n",
    "As a result, the dataset is now **clean, consistent, and ready for analysis**.\n"
   ],
   "id": "14df0186dc633a48"
  }
 ],
 "metadata": {
  "kernelspec": {
   "display_name": "Python 3",
   "language": "python",
   "name": "python3"
  },
  "language_info": {
   "codemirror_mode": {
    "name": "ipython",
    "version": 2
   },
   "file_extension": ".py",
   "mimetype": "text/x-python",
   "name": "python",
   "nbconvert_exporter": "python",
   "pygments_lexer": "ipython2",
   "version": "2.7.6"
  }
 },
 "nbformat": 4,
 "nbformat_minor": 5
}
